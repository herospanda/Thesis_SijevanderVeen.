{
 "cells": [
  {
   "cell_type": "markdown",
   "metadata": {},
   "source": [
    "# Graph to visualize Twitter performance on LSI."
   ]
  },
  {
   "cell_type": "markdown",
   "metadata": {},
   "source": [
    "This notebook is used for subsection 1. What is the optimal number of topics that can be generatedon a set of Twitter messages using a topic model?"
   ]
  },
  {
   "cell_type": "code",
   "execution_count": 9,
   "metadata": {},
   "outputs": [
    {
     "name": "stderr",
     "output_type": "stream",
     "text": [
      "[nltk_data] Downloading package stopwords to\n",
      "[nltk_data]     C:\\Users\\User\\AppData\\Roaming\\nltk_data...\n",
      "[nltk_data]   Package stopwords is already up-to-date!\n"
     ]
    }
   ],
   "source": [
    "#basic python methods\n",
    "import pandas as pd \n",
    "import re\n",
    "import numpy as np\n",
    "import umap\n",
    "from collections import Counter\n",
    "\n",
    "#gensim models for topic modeling\n",
    "import gensim\n",
    "from gensim.test.utils import common_dictionary, common_corpus\n",
    "from gensim.models import LsiModel, CoherenceModel\n",
    "\n",
    "#nlp tools\n",
    "import nltk\n",
    "from nltk.corpus import stopwords\n",
    "nltk.download('stopwords')\n",
    "\n",
    "#visualizations tools\n",
    "import matplotlib.pyplot as plt\n",
    "from matplotlib import pyplot\n",
    "\n",
    "#word embeddings methods\n",
    "from gensim.models import Word2Vec\n",
    "from sklearn.decomposition import PCA\n",
    "from adjustText import adjust_text\n",
    "import umap"
   ]
  },
  {
   "cell_type": "markdown",
   "metadata": {},
   "source": [
    "Load dataset"
   ]
  },
  {
   "cell_type": "code",
   "execution_count": 10,
   "metadata": {},
   "outputs": [
    {
     "data": {
      "text/html": [
       "<div>\n",
       "<style scoped>\n",
       "    .dataframe tbody tr th:only-of-type {\n",
       "        vertical-align: middle;\n",
       "    }\n",
       "\n",
       "    .dataframe tbody tr th {\n",
       "        vertical-align: top;\n",
       "    }\n",
       "\n",
       "    .dataframe thead th {\n",
       "        text-align: right;\n",
       "    }\n",
       "</style>\n",
       "<table border=\"1\" class=\"dataframe\">\n",
       "  <thead>\n",
       "    <tr style=\"text-align: right;\">\n",
       "      <th></th>\n",
       "      <th>message</th>\n",
       "      <th>event.cemistry.hashtags</th>\n",
       "    </tr>\n",
       "  </thead>\n",
       "  <tbody>\n",
       "    <tr>\n",
       "      <th>0</th>\n",
       "      <td>#NYC #BROOKLYN please keep your eyes out!!! Pl...</td>\n",
       "      <td>[ NYC, BROOKLYN, BOOST, QUEER ]</td>\n",
       "    </tr>\n",
       "    <tr>\n",
       "      <th>1</th>\n",
       "      <td>NEW YORK, Kayla has been missing for almost 48...</td>\n",
       "      <td>[ BOOST, NEWYORK ]</td>\n",
       "    </tr>\n",
       "    <tr>\n",
       "      <th>2</th>\n",
       "      <td>NEW YORK, Kayla has been missing for almost 48...</td>\n",
       "      <td>[ BOOST, NEWYORK ]</td>\n",
       "    </tr>\n",
       "    <tr>\n",
       "      <th>3</th>\n",
       "      <td>@rohan_connolly #silentmajority #hush</td>\n",
       "      <td>[ silentmajority, hush ]</td>\n",
       "    </tr>\n",
       "    <tr>\n",
       "      <th>4</th>\n",
       "      <td>Ces travaux d'intérêt général auront lieu le 1...</td>\n",
       "      <td>[ Burundi, YagaNawe ]</td>\n",
       "    </tr>\n",
       "    <tr>\n",
       "      <th>...</th>\n",
       "      <td>...</td>\n",
       "      <td>...</td>\n",
       "    </tr>\n",
       "    <tr>\n",
       "      <th>19995</th>\n",
       "      <td>Need more reasons to attend the 2019 #ChemShow...</td>\n",
       "      <td>[ ChemShow, CPI ]</td>\n",
       "    </tr>\n",
       "    <tr>\n",
       "      <th>19996</th>\n",
       "      <td>#Burundi — This man is from Kayogoro/Makamba p...</td>\n",
       "      <td>[ Burundi ]</td>\n",
       "    </tr>\n",
       "    <tr>\n",
       "      <th>19997</th>\n",
       "      <td>Shots from Sydney Dragway.⁣\\n.⁣\\n© MPN Digital...</td>\n",
       "      <td>[ nofilter, DragRacing, hitithard, neverlift, ...</td>\n",
       "    </tr>\n",
       "    <tr>\n",
       "      <th>19998</th>\n",
       "      <td>#Burundi \\n#BurundiCrisis</td>\n",
       "      <td>[ Burundi, BurundiCrisis ]</td>\n",
       "    </tr>\n",
       "    <tr>\n",
       "      <th>19999</th>\n",
       "      <td>#Burundi\\nIvyo Godefroid Niyombare yavuze kuwa...</td>\n",
       "      <td>[ Burundi, BurundiCrisis ]</td>\n",
       "    </tr>\n",
       "  </tbody>\n",
       "</table>\n",
       "<p>20000 rows × 2 columns</p>\n",
       "</div>"
      ],
      "text/plain": [
       "                                                 message  \\\n",
       "0      #NYC #BROOKLYN please keep your eyes out!!! Pl...   \n",
       "1      NEW YORK, Kayla has been missing for almost 48...   \n",
       "2      NEW YORK, Kayla has been missing for almost 48...   \n",
       "3                  @rohan_connolly #silentmajority #hush   \n",
       "4      Ces travaux d'intérêt général auront lieu le 1...   \n",
       "...                                                  ...   \n",
       "19995  Need more reasons to attend the 2019 #ChemShow...   \n",
       "19996  #Burundi — This man is from Kayogoro/Makamba p...   \n",
       "19997  Shots from Sydney Dragway.⁣\\n.⁣\\n© MPN Digital...   \n",
       "19998                          #Burundi \\n#BurundiCrisis   \n",
       "19999  #Burundi\\nIvyo Godefroid Niyombare yavuze kuwa...   \n",
       "\n",
       "                                 event.cemistry.hashtags  \n",
       "0                        [ NYC, BROOKLYN, BOOST, QUEER ]  \n",
       "1                                     [ BOOST, NEWYORK ]  \n",
       "2                                     [ BOOST, NEWYORK ]  \n",
       "3                               [ silentmajority, hush ]  \n",
       "4                                  [ Burundi, YagaNawe ]  \n",
       "...                                                  ...  \n",
       "19995                                  [ ChemShow, CPI ]  \n",
       "19996                                        [ Burundi ]  \n",
       "19997  [ nofilter, DragRacing, hitithard, neverlift, ...  \n",
       "19998                         [ Burundi, BurundiCrisis ]  \n",
       "19999                         [ Burundi, BurundiCrisis ]  \n",
       "\n",
       "[20000 rows x 2 columns]"
      ]
     },
     "execution_count": 10,
     "metadata": {},
     "output_type": "execute_result"
    }
   ],
   "source": [
    "df = pd.read_csv(r\"C:\\Users\\User\\Documents\\Thesis\\data\\twitter_dataset.csv\", delimiter = ';')\n",
    "df = df[0:20000]\n",
    "df.dropna()"
   ]
  },
  {
   "cell_type": "markdown",
   "metadata": {},
   "source": [
    "\n",
    "Nltk has libaries for common English, French and Spanish words. For other stopwords this set is created."
   ]
  },
  {
   "cell_type": "code",
   "execution_count": 11,
   "metadata": {},
   "outputs": [],
   "source": [
    "stopwords_mix = {'oya','ego','canke','amp','&amp','&amp', 'http', 'https', 'plus', 'contre', 'nest', 'cest' ,'après', 'cette', 'burundi', 'comme', 'burundais', 'ong','tout', 'sans',\n",
    "                     'depuis', 'ils', 'si', 'tous','leurs', 'parti', 'ans', 'selon', 'info','faire',\n",
    "                     'deux','fait','pace', 'period.','exceeding', 'year-earlier','soaring.'\n",
    "                    , 'new', 'avoir','très','non','vient','où','quil','jour','encore','get','one', \n",
    "                     'like', 'need', 'since','time','last','got','know','well','real','via',\"del\",\"por\",\"el\",\"los\",\n",
    "                    \"para\",\"di\",\"una\",\"al\",\"https\",\"nhttps\",'amp','&amp;','&','!','?',':','-',\"alors\",\"au\",\"aucuns\",\"aussi\",\"autre\",\"avant\",\"avec\",\"avoir\", \"aux\",\"bon\",\"car\",\"ce\",\"cela\",\"ces\",\"ceux\",\"chaque\",\"ci\",\"comme\",\"comment\",\"dans\",\"des\",\n",
    "                    \"du\",\"dedans\",\"dehors\",\"depuis\",\"devrait\",\"doit\",\"donc\",\"dos\",\"début\",\"elle\",\"elles\",\"en\",\"encore\",\"essai\",\"est\",\"et\",\"eu\",\"fait\",\"faites\",\"fois\",\n",
    "                    \"font\",\"hors\",\"ici\",\"il\",\"ils\",\"je\",\"juste\",\"la\",\"le\",\"les\",\"leur\",\"là\",\"ma\",\"maintenant\",\"mais\",\"mes\",\"mine\",\"moins\",\"mon\",\"mot\",\"même\",\"ni\",\"nommés\",\"notre\",\"nous\",\n",
    "                    \"ou\",\"où\",\"par\",\"parce\",\"pas\",\"peut\",\"peu\",\"plupart\",\"pour\",\"pourquoi\",\"quand\",\"que\",\"quel\",\"quelle\",\"quelles\",\"quels\",\"qui\",\"sa\",\"sans\",\"ses\",\n",
    "                    \"seulement\",\"si\",\"sien\",\"son\",\"sont\",\"sous\",\"soyes\",\"sujet\",\"sur\",\"ta\",\"tandis\",\"tellement\",\"tels\",\"tes\",\"ton\",\"tous\",\"tout\",\"trop\",\"très\",\"tu\",\"voient\",\n",
    "                    \"un\",\"une\",\"vont\",\"votre\",\"vous\",\"vu\",\"ça\",\"étaient\",\"état\",\"étions\",\"été\",\"être\",\"ne\",\"se\",\"y\",\"ont\",\"nos\",\"dit\",\"dire\",\n",
    "                   \"c\",\"d\",\"lui\",\"l\",\"moi\",\"va\",\"n\",\"na\",\"rien\",\"autres\",\"bien\",\"sera\",\"suis\",\"vie\",\"soit\",\"quon\",\n",
    "                   \"bonne\",\"quils\",\"jamais\",\"entre\",\"k\",\"te\",\"ourselves\", \"hers\", \"between\", \"yourself\", \"but\", \"again\", \"there\", \"about\", \"once\", \n",
    "                     \"during\", \"out\", \"very\", \"having\", \"with\", \"they\", \"own\", \"an\", \"be\", \"some\", \"for\", \n",
    "                     \"do\", \"de\", \"its\", \"yours\", \"such\", \"into\", \"of\", \"most\", \"itself\", \"other\", \"off\", \"is\", \"s\", \n",
    "                     \"am\", \"or\", \"who\", \"as\", \"from\", \"him\", \"each\", \"the\", \"themselves\", \"until\", \"below\", \"are\", \n",
    "                     \"we\", \"these\", \"your\", \"his\", \"through\", \"don\", \"nor\", \"me\", \"were\", \"her\", \"more\", \"himself\", \n",
    "                     \"this\", \"down\", \"should\", \"our\", \"their\", \"while\", \"above\", \"both\", \"up\", \"to\", \"ours\", \"had\", \n",
    "                     \"she\", \"all\", \"no\", \"when\", \"at\", \"any\", \"before\", \"them\", \"same\", \"and\", \"been\", \"have\", \"in\", \n",
    "                     \"will\", \"on\", \"does\", \"yourselves\", \"then\", \"that\", \"because\", \"what\", \"over\", \"why\", \"so\", \"can\",\n",
    "                     \"did\", \"not\", \"now\", \"under\", \"he\", \"you\", \"herself\", \"has\", \"just\", \"where\", \"too\", \"only\", \"myself\",\n",
    "                     \"which\", \"those\", \"i\", \"after\", \"few\", \"whom\", \"t\", \"being\", \"if\", \"theirs\", \"my\", \"against\", \"a\", \"by\",\n",
    "                     \"doing\", \"it\", \"how\", \"further\", \"was\", \"here\", \"than\", \"https\",\"nhttps\",'amp','&amp;','&','!','?',':','-'}"
   ]
  },
  {
   "cell_type": "markdown",
   "metadata": {},
   "source": [
    "Messages checked on stopwords and characters."
   ]
  },
  {
   "cell_type": "code",
   "execution_count": 12,
   "metadata": {},
   "outputs": [
    {
     "name": "stdout",
     "output_type": "stream",
     "text": [
      "nyc brooklyn please keep eyes \n"
     ]
    }
   ],
   "source": [
    "def clean_message(current_message):\n",
    "    new_string = \"\"\n",
    "    p = re.compile('@[a-zA-Z]+')\n",
    "    findall = p.findall(str(current_message))\n",
    "    current_message = re.sub(r'@[a-zA-Z]+', '', str(current_message))\n",
    "    current_message = re.sub(r'[^a-zA-Z ]', '', str(current_message))\n",
    "    for word in current_message.lower().split(\" \"):\n",
    "   \n",
    "        if not word.startswith(\"@\" or \"#\" or \"http\"):\n",
    "            if not word in set(stopwords.words(\"english\")):\n",
    "                if not word in set(stopwords.words(\"french\")):\n",
    "                    if not word in set(stopwords.words(\"spanish\")):\n",
    "                        if len(word) > 1:\n",
    "                            if not word in stopwords_mix:\n",
    "                     \n",
    "                                new_string += (str(word) + \" \")\n",
    "    return(new_string)\n",
    "\n",
    "print(clean_message(\"#NYC #BROOKLYN please keep your eyes out!!!\"))\n",
    "    "
   ]
  },
  {
   "cell_type": "code",
   "execution_count": 13,
   "metadata": {},
   "outputs": [],
   "source": [
    "def tokenize_message(current_message):\n",
    "    new_list = []\n",
    "    p = re.compile('@[a-zA-Z]+')\n",
    "    findall = p.findall(str(current_message))\n",
    "    current_message = re.sub(r'@[a-zA-Z]+', '', str(current_message))\n",
    "    current_message = re.sub(r'[^a-zA-Z ]', '', str(current_message))\n",
    "    for word in current_message.lower().split(\" \"):\n",
    "   \n",
    "        if not word.startswith(\"@\" or \"#\" or \"http\"):\n",
    "            if not word in set(stopwords.words(\"english\")):\n",
    "                if not word in set(stopwords.words(\"french\")):\n",
    "                    if not word in set(stopwords.words(\"spanish\")):\n",
    "                        if len(word) > 1:\n",
    "                            if not word in stopwords_mix:\n",
    "                     \n",
    "                                new_list.append(str(word))\n",
    "    return(new_list)"
   ]
  },
  {
   "cell_type": "markdown",
   "metadata": {},
   "source": [
    "Tokenized messages are used as input to train a dictionary. 1000 most common words are kept. A word corpus is created form the dictionary."
   ]
  },
  {
   "cell_type": "code",
   "execution_count": null,
   "metadata": {},
   "outputs": [],
   "source": [
    "df.dropna()\n",
    "\n",
    "df['clean_message'] = df['message'].apply(clean_message)\n",
    "\n",
    "df['tokenize_message'] = df['message'].apply(tokenize_message)\n",
    "\n",
    "dictionary = gensim.corpora.Dictionary(df['tokenize_message'])\n",
    "\n",
    "dictionary.filter_extremes(no_below=1, no_above=0.5, keep_n=1000)\n",
    "\n",
    "bow_corpus = [dictionary.doc2bow(doc) for doc in df['tokenize_message']]"
   ]
  },
  {
   "cell_type": "markdown",
   "metadata": {},
   "source": [
    "# Coherence"
   ]
  },
  {
   "cell_type": "markdown",
   "metadata": {},
   "source": [
    "$$Coherence  Score  UCI(w_i,w_j)= log(\\frac{p(w_i,w_j)}{p(w_i)p(w_j)})$$"
   ]
  },
  {
   "cell_type": "code",
   "execution_count": 15,
   "metadata": {},
   "outputs": [],
   "source": [
    "def evaluate_graph(dictionary, corpus, texts, limit):\n",
    "    c_v = []\n",
    "    lm_list = []\n",
    "    for num_topics in range(1, limit):\n",
    "        lm = LsiModel(corpus=bow_corpus, num_topics=num_topics, id2word=dictionary)\n",
    "        lm_list.append(lm)\n",
    "        cm = CoherenceModel(model=lm, texts=texts, dictionary=dictionary, coherence='c_v')\n",
    "        c_v.append(cm.get_coherence())\n",
    "        \n",
    "    # Show graph\n",
    "    x = range(1, limit)\n",
    "    print(c_v)\n",
    "    plt.plot(x, c_v)\n",
    "    plt.xlabel(\"num_topics\")\n",
    "    plt.ylabel(\"Coherence score\")\n",
    "    plt.show()\n",
    "    \n",
    "    "
   ]
  },
  {
   "cell_type": "markdown",
   "metadata": {},
   "source": [
    "For each subset the coherence is calculated for a number of topic (num topics) between 1 and 30"
   ]
  },
  {
   "cell_type": "code",
   "execution_count": 16,
   "metadata": {},
   "outputs": [
    {
     "name": "stdout",
     "output_type": "stream",
     "text": [
      "[0.4851379409967581, 0.6781951446220709, 0.5731125612716991, 0.6729886147389271, 0.7025743692798843, 0.6280383177333807, 0.6241517128307604, 0.6559895359326808, 0.6524354751318732, 0.6482362192358221, 0.7533107507148679, 0.5721028539771412, 0.6138786009620038, 0.6653024992762662, 0.6502059700653562, 0.7373308474949114, 0.6459968789062639, 0.6922927197105753, 0.6378486380635691, 0.6432401395192812, 0.5831648544855758, 0.6574555298236491, 0.6169136115285404, 0.6219203061922389, 0.6433069353159472, 0.6781109234660797, 0.5301479713530394, 0.5447958993779763, 0.5802883080256355]\n"
     ]
    },
    {
     "data": {
      "image/png": "[encoded data removed]",
      "text/plain": [
       "<Figure size 432x288 with 1 Axes>"
      ]
     },
     "metadata": {
      "needs_background": "light"
     },
     "output_type": "display_data"
    }
   ],
   "source": [
    "evaluate_graph(dictionary, bow_corpus, df['tokenize_message'], 30)"
   ]
  },
  {
   "cell_type": "markdown",
   "metadata": {},
   "source": [
    "Output values per subset."
   ]
  },
  {
   "cell_type": "code",
   "execution_count": 19,
   "metadata": {},
   "outputs": [],
   "source": [
    "x = range(1,30)\n",
    "c_v_1 = [0.4851379409967581, 0.6781951446220709, 0.5731125612716991, 0.6729886147389271, 0.7025743692798843, 0.6280383177333807, 0.6241517128307604, 0.6559895359326808, 0.6524354751318732, 0.6482362192358221, 0.7533107507148679, 0.5721028539771412, 0.6138786009620038, 0.6653024992762662, 0.6502059700653562, 0.7373308474949114, 0.6459968789062639, 0.6922927197105753, 0.6378486380635691, 0.6432401395192812, 0.5831648544855758, 0.6574555298236491, 0.6169136115285404, 0.6219203061922389, 0.6433069353159472, 0.6781109234660797, 0.5301479713530394, 0.5447958993779763, 0.5802883080256355]\n",
    "c_v_2 = [0.5589171210672903, 0.692841740257424, 0.7168145872007332, 0.7655457968423722, 0.7658484214504248, 0.6684565528896466, 0.5785869948215938, 0.7690710419445786, 0.5845444243927445, 0.7132734227434414, 0.6474306337780295, 0.6730882225406396, 0.6043025190105126, 0.5702818458441276, 0.5664745144771955, 0.681974357023842, 0.675472198917503, 0.6374395207945511, 0.6173588690527515, 0.6125712763780056, 0.5752003313459507, 0.5888454618176625, 0.5742646393766813, 0.5842024259794193, 0.5484433031433248, 0.5460841145618521, 0.5277915875962803, 0.589344975307247, 0.5950128697719786]\n",
    "c_v_3 = [0.2805783177838507, 0.638860255544869, 0.7444222121861973, 0.8083156149610661, 0.9035982350402365, 0.6948390672326, 0.8053542123157132, 0.7221928967639373, 0.608802305142148, 0.6822684911969691, 0.7150605306359856, 0.672034792419903, 0.7141453841704564, 0.6008422985574977, 0.6556184800611801, 0.5934427147499869, 0.6338460424592341, 0.6391368083231727, 0.6310130139695376, 0.5748807839339689, 0.567546352127935, 0.5837060032944742, 0.5974921003009479, 0.5856906592220877, 0.6119348982993402, 0.5885645492087969, 0.5938255144131802, 0.5942460094879946, 0.5964263939706368]\n",
    "c_v_4 = [0.33417083444651524, 0.38683581416408414, 0.48716093853891224, 0.7411394030801614, 0.5449208756598501, 0.43728150316078324, 0.45490601323598795, 0.33427868352733126, 0.4538259934933445, 0.5269349521181143, 0.5261510885935542, 0.3994182389105043, 0.4008063065428988, 0.45613335310621483, 0.5376052998021991, 0.5461020631450099, 0.5596560789340029, 0.550769658032887, 0.540888791189284, 0.46574486681634975, 0.5744439115926004, 0.5507865813122539, 0.5591420503133078, 0.6100642829234477, 0.5664226551428045, 0.5583662785154354, 0.5447447551172826, 0.5362848436979348, 0.562365023991759]\n",
    "c_v_5 = [0.5452510118740853, 0.7053297013152632, 0.7737692854245147, 0.6870383511267634, 0.7769188390570254, 0.7924929773550922, 0.6758318109983458, 0.7574452673332117, 0.7543346954138267, 0.6937622469643546, 0.7018213893641416, 0.6880086349351533, 0.5765899206739333, 0.7166617030045084, 0.7041337178377787, 0.7790127071911528, 0.6450841247439228, 0.5998027072647967, 0.6999760909274997, 0.5870049738704426, 0.5823959317058621, 0.6415756598725578, 0.6396552219120225, 0.6250498908531736, 0.5790493937204186, 0.6148019872868465, 0.5661813098192648, 0.6462188723064992, 0.5973739555915527]"
   ]
  },
  {
   "cell_type": "markdown",
   "metadata": {},
   "source": [
    "Plot to show the coherence of five subsets using LSI algoritm."
   ]
  },
  {
   "cell_type": "code",
   "execution_count": 21,
   "metadata": {},
   "outputs": [
    {
     "data": {
      "image/png": "[encoded data removed]",
      "text/plain": [
       "<Figure size 432x288 with 1 Axes>"
      ]
     },
     "metadata": {
      "needs_background": "light"
     },
     "output_type": "display_data"
    }
   ],
   "source": [
    "plt.plot(x, c_v_1)\n",
    "plt.plot(x, c_v_2)\n",
    "plt.plot(x, c_v_3)\n",
    "plt.plot(x, c_v_4)\n",
    "plt.plot(x, c_v_5)\n",
    "plt.xlabel(\"num topics\")\n",
    "plt.ylabel(\"Coherence score\")\n",
    "plt.show()"
   ]
  }
 ],
 "metadata": {
  "kernelspec": {
   "display_name": "Python 3",
   "language": "python",
   "name": "python3"
  },
  "language_info": {
   "codemirror_mode": {
    "name": "ipython",
    "version": 3
   },
   "file_extension": ".py",
   "mimetype": "text/x-python",
   "name": "python",
   "nbconvert_exporter": "python",
   "pygments_lexer": "ipython3",
   "version": "3.7.6"
  }
 },
 "nbformat": 4,
 "nbformat_minor": 2
}
