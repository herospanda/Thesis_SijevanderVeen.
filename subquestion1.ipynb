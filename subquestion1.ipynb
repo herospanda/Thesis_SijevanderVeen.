{
 "cells": [
  {
   "cell_type": "markdown",
   "metadata": {},
   "source": [
    "# How accurately can topic modelling be  applied on Twitter data?"
   ]
  },
  {
   "cell_type": "markdown",
   "metadata": {},
   "source": [
    "How accurately topic modeling can be applied to conversational data? To answer this question LDA has been applied  to 10 sub-sets of the Twitter data-set. To evaluate a LDA model, the model perplexity and model coherence are  common used evaluation method."
   ]
  },
  {
   "cell_type": "markdown",
   "metadata": {},
   "source": [
    "Libaries are imported"
   ]
  },
  {
   "cell_type": "code",
   "execution_count": 2,
   "metadata": {},
   "outputs": [],
   "source": [
    "import pandas as pd \n",
    "import re\n",
    "import gensim\n",
    "import numpy as np\n",
    "from gensim.models import Word2Vec\n",
    "from gensim import corpora, models\n",
    "from gensim.models import CoherenceModel"
   ]
  },
  {
   "cell_type": "markdown",
   "metadata": {},
   "source": [
    "Loading dataset"
   ]
  },
  {
   "cell_type": "code",
   "execution_count": 3,
   "metadata": {},
   "outputs": [
    {
     "name": "stdout",
     "output_type": "stream",
     "text": [
      "Length of dataset = 464845\n"
     ]
    }
   ],
   "source": [
    "df = pd.read_csv(\"/home/sije/Thesis/data/twitter_dataset.csv\", delimiter = ';')\n",
    "df = df.dropna()\n",
    "print('Length of dataset = ' + str(len(df)))"
   ]
  },
  {
   "cell_type": "markdown",
   "metadata": {},
   "source": [
    "Dataset is split in 10 subsets"
   ]
  },
  {
   "cell_type": "code",
   "execution_count": 4,
   "metadata": {},
   "outputs": [],
   "source": [
    "splitted_data = np.array_split(df, 10)"
   ]
  },
  {
   "cell_type": "markdown",
   "metadata": {},
   "source": [
    "Function which returns perplexity score for a given LDA model."
   ]
  },
  {
   "cell_type": "code",
   "execution_count": 5,
   "metadata": {},
   "outputs": [],
   "source": [
    "def perplexity(dataframe):\n",
    "    message = dataframe['message']\n",
    "    messages = []\n",
    "    count = 0\n",
    "    for string in message:\n",
    "        count += 1\n",
    "        p = re.compile('@[a-zA-Z]+')\n",
    "        findall = p.findall(str(string))\n",
    "        string = re.sub(r'@[a-zA-Z]+', '', str(string))\n",
    "        string = re.sub(r'[^a-zA-Z ]', '', str(string))\n",
    "        messages.append(str(string).lower().split())\n",
    "\n",
    "    \n",
    "    selected_messages = messages\n",
    "\n",
    "    dictionary = gensim.corpora.Dictionary(selected_messages)\n",
    "    dictionary.filter_extremes(no_below=15, no_above=0.5, keep_n=10000)\n",
    "    bow_corpus = [dictionary.doc2bow(doc) for doc in selected_messages]\n",
    "    lda_model = gensim.models.LdaMulticore(bow_corpus, num_topics=10, id2word=dictionary, passes=2, workers=2)\n",
    "    Perplexity = lda_model.log_perplexity(bow_corpus)\n",
    "    return(Perplexity)"
   ]
  },
  {
   "cell_type": "markdown",
   "metadata": {},
   "source": [
    "Perplexity is caculated for each subset"
   ]
  },
  {
   "cell_type": "code",
   "execution_count": 7,
   "metadata": {},
   "outputs": [],
   "source": [
    "values_perplexity = []\n",
    "for dataframe in splitted_data:\n",
    "    values_perplexity.append(perplexity(dataframe))\n",
    "keys_perplexity = []\n",
    "for x in range(1,11):\n",
    "    keys_perplexity.append(x)"
   ]
  },
  {
   "cell_type": "markdown",
   "metadata": {},
   "source": [
    "Variance and standard deviation is calculated between perplexity scores. "
   ]
  },
  {
   "cell_type": "code",
   "execution_count": 8,
   "metadata": {},
   "outputs": [
    {
     "name": "stdout",
     "output_type": "stream",
     "text": [
      "Standard deviation = 0.3197858339185289\n",
      "Variance = 0.10226297957496895\n"
     ]
    }
   ],
   "source": [
    "np_values_perplexity = np.array(values_perplexity)\n",
    "print('Standard deviation = ' + str(np.std(np_values_perplexity)))\n",
    "print('Variance = ' + str(np.var(np_values_perplexity)))"
   ]
  },
  {
   "cell_type": "markdown",
   "metadata": {},
   "source": [
    "Perplexity scores are ploted in a barplot"
   ]
  },
  {
   "cell_type": "code",
   "execution_count": 10,
   "metadata": {},
   "outputs": [
    {
     "name": "stdout",
     "output_type": "stream",
     "text": [
      "[1, 2, 3, 4, 5, 6, 7, 8, 9, 10]\n",
      "[-6.933653503290247, -6.98736721647814, -6.210857128939283, -6.298428307435893, -7.079119543192184, -6.899521588412551, -7.091581182666609, -7.094033005546986, -7.1226442263270915, -7.061134883204106]\n"
     ]
    },
    {
     "data": {
      "image/png": "[encoded data removed]",
      "text/plain": [
       "<Figure size 640x480 with 1 Axes>"
      ]
     },
     "metadata": {},
     "output_type": "display_data"
    }
   ],
   "source": [
    "import matplotlib.pyplot as plt; plt.rcdefaults()\n",
    "import numpy as np\n",
    "import matplotlib.pyplot as plt\n",
    "\n",
    "y_pos = np.arange(len(keys_perplexity))\n",
    "\n",
    "print(keys_perplexity)\n",
    "print(values_perplexity)\n",
    "\n",
    "\n",
    "plt.barh(y_pos, values_perplexity, align='center', alpha=0.5)\n",
    "plt.yticks(y_pos, keys_perplexity)\n",
    "plt.xlabel('Perplexity score')\n",
    "plt.ylabel('Subset')\n",
    "plt.xlim(0, -8)\n",
    "plt.title('Perplexity score per subset')\n",
    "\n",
    "plt.show()"
   ]
  },
  {
   "cell_type": "markdown",
   "metadata": {},
   "source": [
    "Function which returns the coherence score for a given LDA model"
   ]
  },
  {
   "cell_type": "markdown",
   "metadata": {},
   "source": [
    "For each subset the perplexity score is shown in the figure above. Between the perplexity scores is a variance of  8.25 and standard deviation of 2.87.The performance per data set is slightly different, but stable."
   ]
  },
  {
   "cell_type": "code",
   "execution_count": 11,
   "metadata": {},
   "outputs": [],
   "source": [
    "def coherence(dataframe):\n",
    "    message = dataframe['message']\n",
    "    messages = []\n",
    "    count = 0\n",
    "    for string in message:\n",
    "        count += 1\n",
    "        p = re.compile('@[a-zA-Z]+')\n",
    "        findall = p.findall(str(string))\n",
    "        string = re.sub(r'@[a-zA-Z]+', '', str(string))\n",
    "        string = re.sub(r'[^a-zA-Z ]', '', str(string))\n",
    "        messages.append(str(string).lower().split())\n",
    "\n",
    "    \n",
    "    selected_messages = messages\n",
    "\n",
    "    dictionary = gensim.corpora.Dictionary(selected_messages)\n",
    "    dictionary.filter_extremes(no_below=15, no_above=0.5, keep_n=10000)\n",
    "    bow_corpus = [dictionary.doc2bow(doc) for doc in selected_messages]\n",
    "    lda_model = gensim.models.LdaMulticore(bow_corpus, num_topics=10, id2word=dictionary, passes=2, workers=2)\n",
    "    id2word = corpora.Dictionary(selected_messages)\n",
    "    coherence_model_lda = CoherenceModel(model=lda_model, texts=selected_messages, dictionary=id2word, coherence='c_v')\n",
    "    coherence_lda = coherence_model_lda.get_coherence()\n",
    "    Coherence_Score = coherence_lda\n",
    "    return(Coherence_Score)"
   ]
  },
  {
   "cell_type": "markdown",
   "metadata": {},
   "source": [
    "Coherence is caculated for each subset"
   ]
  },
  {
   "cell_type": "code",
   "execution_count": 12,
   "metadata": {},
   "outputs": [],
   "source": [
    "values_coherence = []\n",
    "for dataframe in splitted_data:\n",
    "    values_coherence.append(coherence(dataframe))\n",
    "keys_coherence = []\n",
    "for x in range(1,11):\n",
    "    keys_coherence.append(x)"
   ]
  },
  {
   "cell_type": "markdown",
   "metadata": {},
   "source": [
    "Variance and standard deviation is calculated between the coherence scores."
   ]
  },
  {
   "cell_type": "code",
   "execution_count": 13,
   "metadata": {},
   "outputs": [
    {
     "name": "stdout",
     "output_type": "stream",
     "text": [
      "Standard deviation = 0.03660150763971259\n",
      "Variance = 0.001339670361499939\n"
     ]
    }
   ],
   "source": [
    "np_values_coherence = np.array(values_coherence)\n",
    "print('Standard deviation = ' + str(np.std(np_values_coherence)))\n",
    "print('Variance = ' + str(np.var(np_values_coherence)))"
   ]
  },
  {
   "cell_type": "markdown",
   "metadata": {},
   "source": [
    "Coherence scores are ploted in a barplot"
   ]
  },
  {
   "cell_type": "code",
   "execution_count": 14,
   "metadata": {
    "scrolled": true
   },
   "outputs": [
    {
     "name": "stdout",
     "output_type": "stream",
     "text": [
      "[1, 2, 3, 4, 5, 6, 7, 8, 9, 10]\n",
      "[0.6163747923497707, 0.6535654063385687, 0.5727892559959649, 0.6181809507519854, 0.6550081320180514, 0.6094090507074531, 0.5966312396972695, 0.5755511820384267, 0.5621389378748719, 0.5364952434327688]\n"
     ]
    },
    {
     "data": {
      "image/png": "[encoded data removed]",
      "text/plain": [
       "<Figure size 640x480 with 1 Axes>"
      ]
     },
     "metadata": {},
     "output_type": "display_data"
    }
   ],
   "source": [
    "y_pos = np.arange(len(keys_perplexity))\n",
    "\n",
    "print(keys_coherence)\n",
    "print(values_coherence)\n",
    "\n",
    "\n",
    "plt.barh(y_pos, values_coherence, align='center', alpha=0.5)\n",
    "plt.yticks(y_pos, keys_coherence)\n",
    "plt.xlabel('Coherence score')\n",
    "plt.ylabel('Subset')\n",
    "plt.xlim(0, 0.8)\n",
    "plt.title('Coherence score per subset')\n",
    "\n",
    "plt.show()"
   ]
  },
  {
   "cell_type": "markdown",
   "metadata": {},
   "source": [
    "For each subset the coherence score is shown in figure 2. Between the coherence scores is a variance of 0.0014 and standard deviation of 0.038. Also the coherence score per data set is slightly different, but stable. Both evaluation methods shows slightly different results between sub-sets, but overall performs stable. By using a LDA model with 10 output topics,can a perplexity score achieved between -6.21 and -7.09 and a coherence score between 0.54 and 0.65."
   ]
  }
 ],
 "metadata": {
  "kernelspec": {
   "display_name": "Python 3",
   "language": "python",
   "name": "python3"
  },
  "language_info": {
   "codemirror_mode": {
    "name": "ipython",
    "version": 3
   },
   "file_extension": ".py",
   "mimetype": "text/x-python",
   "name": "python",
   "nbconvert_exporter": "python",
   "pygments_lexer": "ipython3",
   "version": "3.7.2"
  }
 },
 "nbformat": 4,
 "nbformat_minor": 2
}
